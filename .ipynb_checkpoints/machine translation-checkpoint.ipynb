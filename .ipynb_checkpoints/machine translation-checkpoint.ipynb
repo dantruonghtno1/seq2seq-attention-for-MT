{
 "cells": [
  {
   "cell_type": "markdown",
   "metadata": {
    "id": "OZvQLQFOlCJc"
   },
   "source": [
    "# Import libraries"
   ]
  },
  {
   "cell_type": "code",
   "execution_count": null,
   "metadata": {
    "id": "kQ67XPEOk3G8"
   },
   "outputs": [],
   "source": [
    "import torchvision\n",
    "import torch \n",
    "import torch.nn as nn \n",
    "import torch.functional as F \n",
    "import torch.optim as optim\n",
    "from torch.nn.utils.rnn import pack_padded_sequence, pad_packed_sequence"
   ]
  },
  {
   "cell_type": "code",
   "execution_count": null,
   "metadata": {
    "id": "mjYwOKUVlHSJ"
   },
   "outputs": [],
   "source": [
    "import pandas as pd \n",
    "from sklearn.model_selection import train_test_split\n",
    "import numpy as np \n",
    "import unicodedata\n",
    "import re \n",
    "import time \n",
    "import os "
   ]
  },
  {
   "cell_type": "code",
   "execution_count": null,
   "metadata": {
    "colab": {
     "base_uri": "https://localhost:8080/",
     "height": 35
    },
    "executionInfo": {
     "elapsed": 33,
     "status": "ok",
     "timestamp": 1634370786479,
     "user": {
      "displayName": "19020475 Phan Đình Đan Trường",
      "photoUrl": "https://lh3.googleusercontent.com/a/default-user=s64",
      "userId": "14474264519991938299"
     },
     "user_tz": -420
    },
    "id": "dj0uOkfrl6qh",
    "outputId": "6814b906-4b01-4db8-d5bf-8ab5af14ac8b"
   },
   "outputs": [
    {
     "data": {
      "application/vnd.google.colaboratory.intrinsic+json": {
       "type": "string"
      },
      "text/plain": [
       "'1.9.0+cu111'"
      ]
     },
     "execution_count": 81,
     "metadata": {},
     "output_type": "execute_result"
    }
   ],
   "source": [
    "torch.__version__"
   ]
  },
  {
   "cell_type": "code",
   "execution_count": null,
   "metadata": {
    "colab": {
     "base_uri": "https://localhost:8080/"
    },
    "executionInfo": {
     "elapsed": 29,
     "status": "ok",
     "timestamp": 1634370786480,
     "user": {
      "displayName": "19020475 Phan Đình Đan Trường",
      "photoUrl": "https://lh3.googleusercontent.com/a/default-user=s64",
      "userId": "14474264519991938299"
     },
     "user_tz": -420
    },
    "id": "CwBXSj1BtXjw",
    "outputId": "47f4bb07-ddb7-45ac-9668-9faab8e7a888"
   },
   "outputs": [
    {
     "name": "stdout",
     "output_type": "stream",
     "text": [
      "[Errno 2] No such file or directory: 'drive/MyDrive/Colab Notebooks/Daily_Coding/Seq2seq+attention'\n",
      "/content/drive/MyDrive/Colab Notebooks/Daily_Coding/Seq2seq+attention\n"
     ]
    }
   ],
   "source": [
    "cd drive/MyDrive/Colab\\ Notebooks/Daily_Coding/Seq2seq+attention"
   ]
  },
  {
   "cell_type": "code",
   "execution_count": null,
   "metadata": {
    "colab": {
     "base_uri": "https://localhost:8080/"
    },
    "executionInfo": {
     "elapsed": 470,
     "status": "ok",
     "timestamp": 1634370786938,
     "user": {
      "displayName": "19020475 Phan Đình Đan Trường",
      "photoUrl": "https://lh3.googleusercontent.com/a/default-user=s64",
      "userId": "14474264519991938299"
     },
     "user_tz": -420
    },
    "id": "sFD8VnpCuJX4",
    "outputId": "34f734eb-b102-423f-ab47-d34cb6ef6255"
   },
   "outputs": [
    {
     "name": "stdout",
     "output_type": "stream",
     "text": [
      " \u001b[0m\u001b[01;34mdata\u001b[0m/  'machine translation.ipynb'   Seq2seq+attention.ipynb\n"
     ]
    }
   ],
   "source": [
    "ls"
   ]
  },
  {
   "cell_type": "code",
   "execution_count": null,
   "metadata": {
    "colab": {
     "base_uri": "https://localhost:8080/"
    },
    "executionInfo": {
     "elapsed": 7,
     "status": "ok",
     "timestamp": 1634370786939,
     "user": {
      "displayName": "19020475 Phan Đình Đan Trường",
      "photoUrl": "https://lh3.googleusercontent.com/a/default-user=s64",
      "userId": "14474264519991938299"
     },
     "user_tz": -420
    },
    "id": "OPrGvmLNl8Ai",
    "outputId": "50c28603-d922-4106-f80e-6630d2dae105"
   },
   "outputs": [
    {
     "name": "stdout",
     "output_type": "stream",
     "text": [
      "train.en  train.vi\n"
     ]
    }
   ],
   "source": [
    "ls data/train-en-vi"
   ]
  },
  {
   "cell_type": "markdown",
   "metadata": {
    "id": "Mg5LitpVpqPE"
   },
   "source": [
    "# Prepare dataset"
   ]
  },
  {
   "cell_type": "code",
   "execution_count": null,
   "metadata": {
    "id": "4-r-UGj2nxoG"
   },
   "outputs": [],
   "source": [
    "DATA_PATH = \"./data/\"\n",
    "TRAIN_SRC_PATH = os.path.join(DATA_PATH, \"train-en-vi/train.en\")\n",
    "TRAIN_TGT_PATH = os.path.join(DATA_PATH, \"train-en-vi/train.vi\")\n",
    "DEV_SRC_PATH = os.path.join(DATA_PATH, \"dev-en-vi/tst2012.en\")\n",
    "DEV_TGT_PATH = os.path.join(DATA_PATH, \"dev-en-vi/tst2012.vi\")\n",
    "TEST_SRC_PATH = os.path.join(DATA_PATH, \"test-en-vi/tst2013.en\")\n",
    "TEST_TGT_PATH = os.path.join(DATA_PATH, \"test-en-vi/tst2013.vi\")"
   ]
  },
  {
   "cell_type": "code",
   "execution_count": null,
   "metadata": {
    "id": "32iqNUlYouNJ"
   },
   "outputs": [],
   "source": [
    "train_src_sentences = open(TRAIN_SRC_PATH, \"r\").read().split(\"\\n\")\n",
    "train_tgt_sentences = open(TRAIN_TGT_PATH, \"r\").read().split(\"\\n\")\n",
    "dev_src_sentences = open(DEV_SRC_PATH, \"r\").read().split(\"\\n\")\n",
    "dev_tgt_sentences = open(DEV_TGT_PATH, \"r\").read().split(\"\\n\")\n",
    "test_src_sentences = open(TEST_SRC_PATH, \"r\").read().split(\"\\n\")\n",
    "test_tgt_sentences = open(TEST_TGT_PATH, \"r\").read().split(\"\\n\")\n"
   ]
  },
  {
   "cell_type": "code",
   "execution_count": null,
   "metadata": {
    "colab": {
     "base_uri": "https://localhost:8080/",
     "height": 206
    },
    "executionInfo": {
     "elapsed": 31,
     "status": "ok",
     "timestamp": 1634370787347,
     "user": {
      "displayName": "19020475 Phan Đình Đan Trường",
      "photoUrl": "https://lh3.googleusercontent.com/a/default-user=s64",
      "userId": "14474264519991938299"
     },
     "user_tz": -420
    },
    "id": "kITeghoZo13V",
    "outputId": "98fa4adb-7d33-44e6-e637-8558086b270d"
   },
   "outputs": [
    {
     "data": {
      "text/html": [
       "<div>\n",
       "<style scoped>\n",
       "    .dataframe tbody tr th:only-of-type {\n",
       "        vertical-align: middle;\n",
       "    }\n",
       "\n",
       "    .dataframe tbody tr th {\n",
       "        vertical-align: top;\n",
       "    }\n",
       "\n",
       "    .dataframe thead th {\n",
       "        text-align: right;\n",
       "    }\n",
       "</style>\n",
       "<table border=\"1\" class=\"dataframe\">\n",
       "  <thead>\n",
       "    <tr style=\"text-align: right;\">\n",
       "      <th></th>\n",
       "      <th>eng</th>\n",
       "      <th>vi</th>\n",
       "    </tr>\n",
       "  </thead>\n",
       "  <tbody>\n",
       "    <tr>\n",
       "      <th>0</th>\n",
       "      <td>Rachel Pike : The science behind a climate hea...</td>\n",
       "      <td>Khoa học đằng sau một tiêu đề về khí hậu</td>\n",
       "    </tr>\n",
       "    <tr>\n",
       "      <th>1</th>\n",
       "      <td>In 4 minutes , atmospheric chemist Rachel Pike...</td>\n",
       "      <td>Trong 4 phút , chuyên gia hoá học khí quyển Ra...</td>\n",
       "    </tr>\n",
       "    <tr>\n",
       "      <th>2</th>\n",
       "      <td>I &amp;apos;d like to talk to you today about the ...</td>\n",
       "      <td>Tôi muốn cho các bạn biết về sự to lớn của nhữ...</td>\n",
       "    </tr>\n",
       "    <tr>\n",
       "      <th>3</th>\n",
       "      <td>Headlines that look like this when they have t...</td>\n",
       "      <td>Có những dòng trông như thế này khi bàn về biế...</td>\n",
       "    </tr>\n",
       "    <tr>\n",
       "      <th>4</th>\n",
       "      <td>They are both two branches of the same field o...</td>\n",
       "      <td>Cả hai đều là một nhánh của cùng một lĩnh vực ...</td>\n",
       "    </tr>\n",
       "  </tbody>\n",
       "</table>\n",
       "</div>"
      ],
      "text/plain": [
       "                                                 eng                                                 vi\n",
       "0  Rachel Pike : The science behind a climate hea...           Khoa học đằng sau một tiêu đề về khí hậu\n",
       "1  In 4 minutes , atmospheric chemist Rachel Pike...  Trong 4 phút , chuyên gia hoá học khí quyển Ra...\n",
       "2  I &apos;d like to talk to you today about the ...  Tôi muốn cho các bạn biết về sự to lớn của nhữ...\n",
       "3  Headlines that look like this when they have t...  Có những dòng trông như thế này khi bàn về biế...\n",
       "4  They are both two branches of the same field o...  Cả hai đều là một nhánh của cùng một lĩnh vực ..."
      ]
     },
     "execution_count": 87,
     "metadata": {},
     "output_type": "execute_result"
    }
   ],
   "source": [
    "train_sentences = pd.DataFrame(train_src_sentences, columns=[\"eng\"])\n",
    "train_sentences[\"vi\"] = train_tgt_sentences\n",
    "train_sentences.head(5)"
   ]
  },
  {
   "cell_type": "code",
   "execution_count": null,
   "metadata": {
    "colab": {
     "base_uri": "https://localhost:8080/",
     "height": 206
    },
    "executionInfo": {
     "elapsed": 26,
     "status": "ok",
     "timestamp": 1634370787348,
     "user": {
      "displayName": "19020475 Phan Đình Đan Trường",
      "photoUrl": "https://lh3.googleusercontent.com/a/default-user=s64",
      "userId": "14474264519991938299"
     },
     "user_tz": -420
    },
    "id": "xWy0pGedpXjI",
    "outputId": "7a6e0837-571f-46b2-c064-482401516229"
   },
   "outputs": [
    {
     "data": {
      "text/html": [
       "<div>\n",
       "<style scoped>\n",
       "    .dataframe tbody tr th:only-of-type {\n",
       "        vertical-align: middle;\n",
       "    }\n",
       "\n",
       "    .dataframe tbody tr th {\n",
       "        vertical-align: top;\n",
       "    }\n",
       "\n",
       "    .dataframe thead th {\n",
       "        text-align: right;\n",
       "    }\n",
       "</style>\n",
       "<table border=\"1\" class=\"dataframe\">\n",
       "  <thead>\n",
       "    <tr style=\"text-align: right;\">\n",
       "      <th></th>\n",
       "      <th>eng</th>\n",
       "      <th>vi</th>\n",
       "    </tr>\n",
       "  </thead>\n",
       "  <tbody>\n",
       "    <tr>\n",
       "      <th>0</th>\n",
       "      <td>How can I speak in 10 minutes about the bonds ...</td>\n",
       "      <td>Làm sao tôi có thể trình bày trong 10 phút về ...</td>\n",
       "    </tr>\n",
       "    <tr>\n",
       "      <th>1</th>\n",
       "      <td>This is not a finished story .</td>\n",
       "      <td>Câu chuyện này chưa kết thúc .</td>\n",
       "    </tr>\n",
       "    <tr>\n",
       "      <th>2</th>\n",
       "      <td>It is a jigsaw puzzle still being put together .</td>\n",
       "      <td>Nó là một trò chơi ghép hình vẫn đang được xếp .</td>\n",
       "    </tr>\n",
       "    <tr>\n",
       "      <th>3</th>\n",
       "      <td>Let me tell you about some of the pieces .</td>\n",
       "      <td>Hãy để tôi kể cho các bạn về vài mảnh ghép nhé .</td>\n",
       "    </tr>\n",
       "    <tr>\n",
       "      <th>4</th>\n",
       "      <td>Imagine the first piece : a man burning his li...</td>\n",
       "      <td>Hãy tưởng tượng mảnh đầu tiên : một người đàn ...</td>\n",
       "    </tr>\n",
       "  </tbody>\n",
       "</table>\n",
       "</div>"
      ],
      "text/plain": [
       "                                                 eng                                                 vi\n",
       "0  How can I speak in 10 minutes about the bonds ...  Làm sao tôi có thể trình bày trong 10 phút về ...\n",
       "1                     This is not a finished story .                     Câu chuyện này chưa kết thúc .\n",
       "2   It is a jigsaw puzzle still being put together .   Nó là một trò chơi ghép hình vẫn đang được xếp .\n",
       "3         Let me tell you about some of the pieces .   Hãy để tôi kể cho các bạn về vài mảnh ghép nhé .\n",
       "4  Imagine the first piece : a man burning his li...  Hãy tưởng tượng mảnh đầu tiên : một người đàn ..."
      ]
     },
     "execution_count": 88,
     "metadata": {},
     "output_type": "execute_result"
    }
   ],
   "source": [
    "dev_sentences = pd.DataFrame(dev_src_sentences, columns=[\"eng\"])\n",
    "dev_sentences[\"vi\"] = dev_tgt_sentences\n",
    "dev_sentences.head(5)"
   ]
  },
  {
   "cell_type": "code",
   "execution_count": null,
   "metadata": {
    "colab": {
     "base_uri": "https://localhost:8080/",
     "height": 206
    },
    "executionInfo": {
     "elapsed": 24,
     "status": "ok",
     "timestamp": 1634370787349,
     "user": {
      "displayName": "19020475 Phan Đình Đan Trường",
      "photoUrl": "https://lh3.googleusercontent.com/a/default-user=s64",
      "userId": "14474264519991938299"
     },
     "user_tz": -420
    },
    "id": "DypHmrJpp3gM",
    "outputId": "40155588-19a8-4ad6-cd63-196e71095ac6"
   },
   "outputs": [
    {
     "data": {
      "text/html": [
       "<div>\n",
       "<style scoped>\n",
       "    .dataframe tbody tr th:only-of-type {\n",
       "        vertical-align: middle;\n",
       "    }\n",
       "\n",
       "    .dataframe tbody tr th {\n",
       "        vertical-align: top;\n",
       "    }\n",
       "\n",
       "    .dataframe thead th {\n",
       "        text-align: right;\n",
       "    }\n",
       "</style>\n",
       "<table border=\"1\" class=\"dataframe\">\n",
       "  <thead>\n",
       "    <tr style=\"text-align: right;\">\n",
       "      <th></th>\n",
       "      <th>eng</th>\n",
       "      <th>vi</th>\n",
       "    </tr>\n",
       "  </thead>\n",
       "  <tbody>\n",
       "    <tr>\n",
       "      <th>0</th>\n",
       "      <td>When I was little , I thought my country was t...</td>\n",
       "      <td>Khi tôi còn nhỏ , Tôi nghĩ rằng BắcTriều Tiên ...</td>\n",
       "    </tr>\n",
       "    <tr>\n",
       "      <th>1</th>\n",
       "      <td>And I was very proud .</td>\n",
       "      <td>Tôi đã rất tự hào về đất nước tôi .</td>\n",
       "    </tr>\n",
       "    <tr>\n",
       "      <th>2</th>\n",
       "      <td>In school , we spent a lot of time studying th...</td>\n",
       "      <td>Ở trường , chúng tôi dành rất nhiều thời gian ...</td>\n",
       "    </tr>\n",
       "    <tr>\n",
       "      <th>3</th>\n",
       "      <td>Although I often wondered about the outside wo...</td>\n",
       "      <td>Mặc dù tôi đã từng tự hỏi không biết thế giới ...</td>\n",
       "    </tr>\n",
       "    <tr>\n",
       "      <th>4</th>\n",
       "      <td>When I was seven years old , I saw my first pu...</td>\n",
       "      <td>Khi tôi lên 7 , tôi chứng kiến cảnh người ta x...</td>\n",
       "    </tr>\n",
       "  </tbody>\n",
       "</table>\n",
       "</div>"
      ],
      "text/plain": [
       "                                                 eng                                                 vi\n",
       "0  When I was little , I thought my country was t...  Khi tôi còn nhỏ , Tôi nghĩ rằng BắcTriều Tiên ...\n",
       "1                             And I was very proud .                Tôi đã rất tự hào về đất nước tôi .\n",
       "2  In school , we spent a lot of time studying th...  Ở trường , chúng tôi dành rất nhiều thời gian ...\n",
       "3  Although I often wondered about the outside wo...  Mặc dù tôi đã từng tự hỏi không biết thế giới ...\n",
       "4  When I was seven years old , I saw my first pu...  Khi tôi lên 7 , tôi chứng kiến cảnh người ta x..."
      ]
     },
     "execution_count": 89,
     "metadata": {},
     "output_type": "execute_result"
    }
   ],
   "source": [
    "test_sentences = pd.DataFrame(test_src_sentences, columns=[\"eng\"])\n",
    "test_sentences[\"vi\"] = test_tgt_sentences\n",
    "test_sentences.head(5)"
   ]
  },
  {
   "cell_type": "code",
   "execution_count": null,
   "metadata": {
    "id": "PokWa8swr4Y-"
   },
   "outputs": [],
   "source": [
    "def preprocess_sentence(w):\n",
    "    return '<start> ' + w + ' <end>'"
   ]
  },
  {
   "cell_type": "code",
   "execution_count": null,
   "metadata": {
    "colab": {
     "base_uri": "https://localhost:8080/",
     "height": 363
    },
    "executionInfo": {
     "elapsed": 453,
     "status": "ok",
     "timestamp": 1634370787783,
     "user": {
      "displayName": "19020475 Phan Đình Đan Trường",
      "photoUrl": "https://lh3.googleusercontent.com/a/default-user=s64",
      "userId": "14474264519991938299"
     },
     "user_tz": -420
    },
    "id": "zuM6z2qhrAqU",
    "outputId": "8712b696-3405-47bd-ca9a-81b0246a609b"
   },
   "outputs": [
    {
     "data": {
      "text/html": [
       "<div>\n",
       "<style scoped>\n",
       "    .dataframe tbody tr th:only-of-type {\n",
       "        vertical-align: middle;\n",
       "    }\n",
       "\n",
       "    .dataframe tbody tr th {\n",
       "        vertical-align: top;\n",
       "    }\n",
       "\n",
       "    .dataframe thead th {\n",
       "        text-align: right;\n",
       "    }\n",
       "</style>\n",
       "<table border=\"1\" class=\"dataframe\">\n",
       "  <thead>\n",
       "    <tr style=\"text-align: right;\">\n",
       "      <th></th>\n",
       "      <th>eng</th>\n",
       "      <th>vi</th>\n",
       "    </tr>\n",
       "  </thead>\n",
       "  <tbody>\n",
       "    <tr>\n",
       "      <th>75633</th>\n",
       "      <td>&lt;start&gt; Now in a sense , when we think about t...</td>\n",
       "      <td>&lt;start&gt; Nói cách khác , khi chúng ta nghĩ về ả...</td>\n",
       "    </tr>\n",
       "    <tr>\n",
       "      <th>12887</th>\n",
       "      <td>&lt;start&gt; So we have to keep an eye on that . &lt;end&gt;</td>\n",
       "      <td>&lt;start&gt; Vì vậy , chúng tôi phải để mắt đến điề...</td>\n",
       "    </tr>\n",
       "    <tr>\n",
       "      <th>81207</th>\n",
       "      <td>&lt;start&gt; For example , these were state-of-the-...</td>\n",
       "      <td>&lt;start&gt; Ví dụ , đây là những hệ thống vũ khí t...</td>\n",
       "    </tr>\n",
       "    <tr>\n",
       "      <th>96218</th>\n",
       "      <td>&lt;start&gt; You put them in a portfolio and you tr...</td>\n",
       "      <td>&lt;start&gt; Bạn đặt chúng vào một cặp hồ sơ và cố ...</td>\n",
       "    </tr>\n",
       "    <tr>\n",
       "      <th>33516</th>\n",
       "      <td>&lt;start&gt; And the conclusion was it was tasks th...</td>\n",
       "      <td>&lt;start&gt; Và kết luận là những yêu cầu có đe doạ...</td>\n",
       "    </tr>\n",
       "    <tr>\n",
       "      <th>98182</th>\n",
       "      <td>&lt;start&gt; Now , if I came up here , and I wish I...</td>\n",
       "      <td>&lt;start&gt; Nếu tôi được đứng ở đây và tôi ước rằn...</td>\n",
       "    </tr>\n",
       "    <tr>\n",
       "      <th>106471</th>\n",
       "      <td>&lt;start&gt; If we look at biology , and many of yo...</td>\n",
       "      <td>&lt;start&gt; Nếu chúng ta nhìn vào sinh học , và nh...</td>\n",
       "    </tr>\n",
       "    <tr>\n",
       "      <th>12341</th>\n",
       "      <td>&lt;start&gt; So , completely irrational , you would...</td>\n",
       "      <td>&lt;start&gt; Vì thế , hoàn toàn vô lý bạn sẽ nghĩ v...</td>\n",
       "    </tr>\n",
       "    <tr>\n",
       "      <th>41331</th>\n",
       "      <td>&lt;start&gt; So this was interesting . &lt;end&gt;</td>\n",
       "      <td>&lt;start&gt; Nên điều này rất thú vị . &lt;end&gt;</td>\n",
       "    </tr>\n",
       "    <tr>\n",
       "      <th>46387</th>\n",
       "      <td>&lt;start&gt; But as soon as the wolves arrived , ev...</td>\n",
       "      <td>&lt;start&gt; Nhưng ngay sau khi những con sói đến ,...</td>\n",
       "    </tr>\n",
       "  </tbody>\n",
       "</table>\n",
       "</div>"
      ],
      "text/plain": [
       "                                                      eng                                                 vi\n",
       "75633   <start> Now in a sense , when we think about t...  <start> Nói cách khác , khi chúng ta nghĩ về ả...\n",
       "12887   <start> So we have to keep an eye on that . <end>  <start> Vì vậy , chúng tôi phải để mắt đến điề...\n",
       "81207   <start> For example , these were state-of-the-...  <start> Ví dụ , đây là những hệ thống vũ khí t...\n",
       "96218   <start> You put them in a portfolio and you tr...  <start> Bạn đặt chúng vào một cặp hồ sơ và cố ...\n",
       "33516   <start> And the conclusion was it was tasks th...  <start> Và kết luận là những yêu cầu có đe doạ...\n",
       "98182   <start> Now , if I came up here , and I wish I...  <start> Nếu tôi được đứng ở đây và tôi ước rằn...\n",
       "106471  <start> If we look at biology , and many of yo...  <start> Nếu chúng ta nhìn vào sinh học , và nh...\n",
       "12341   <start> So , completely irrational , you would...  <start> Vì thế , hoàn toàn vô lý bạn sẽ nghĩ v...\n",
       "41331             <start> So this was interesting . <end>            <start> Nên điều này rất thú vị . <end>\n",
       "46387   <start> But as soon as the wolves arrived , ev...  <start> Nhưng ngay sau khi những con sói đến ,..."
      ]
     },
     "execution_count": 91,
     "metadata": {},
     "output_type": "execute_result"
    }
   ],
   "source": [
    "train_sentences[\"eng\"] = train_sentences[\"eng\"].apply(lambda w: preprocess_sentence(w))\n",
    "train_sentences[\"vi\"] = train_sentences[\"vi\"].apply(lambda w: preprocess_sentence(w))\n",
    "train_sentences.sample(10)\n"
   ]
  },
  {
   "cell_type": "markdown",
   "metadata": {
    "id": "At_itdC_sI5I"
   },
   "source": [
    "#Building Vocabulary Index\n",
    "\n",
    "class sau dùng để tạo  ra vocabulary index mapping input, output thành index trong câu:"
   ]
  },
  {
   "cell_type": "code",
   "execution_count": null,
   "metadata": {
    "id": "HpBfAFxEsGfh"
   },
   "outputs": [],
   "source": [
    "# this class create word--> index (eg: \"dad\":5)\n",
    "# and index--> word (5-->\"dad\") for each language\n",
    "\n",
    "class LanguageIndex():\n",
    "    def __init__(self, lang):\n",
    "        self.lang = lang \n",
    "        self.word2idx = {}\n",
    "        self.idx2word = {}\n",
    "        self.vocab = set()\n",
    "\n",
    "        self.create_index()\n",
    "\n",
    "    def create_index(self):\n",
    "        for phrase in self.lang:\n",
    "            #update with individual (rieng bieet) tokens\n",
    "            self.vocab.update(phrase.split(' '))\n",
    "\n",
    "        #sort vocab\n",
    "        self.vocab = sorted(self.vocab)\n",
    "\n",
    "        #add a padding token with index 0\n",
    "        self.word2idx['<pad>'] = 0\n",
    "        \n",
    "        #word to index mapping\n",
    "        for index, word in enumerate(self.vocab):\n",
    "            self.word2idx[word] = index + 1 #plus 1 because add pad token\n",
    "\n",
    "        #index to word mapping:\n",
    "        for word, index in self.word2idx.items():\n",
    "            self.idx2word[index] = word\n"
   ]
  },
  {
   "cell_type": "code",
   "execution_count": null,
   "metadata": {
    "id": "8FjBXT0CuD_G"
   },
   "outputs": [],
   "source": [
    "input_lang = LanguageIndex(train_sentences[\"eng\"].values.tolist())\n",
    "target_lang = LanguageIndex(train_sentences[\"vi\"].values.tolist())"
   ]
  },
  {
   "cell_type": "code",
   "execution_count": null,
   "metadata": {
    "id": "WDtuTTbwuf3Y"
   },
   "outputs": [],
   "source": [
    "input_tensor = [[input_lang.word2idx[token] for token in sent.split(' ')] for sent in train_sentences[\"eng\"].values.tolist()]\n",
    "target_tensor = [[target_lang.word2idx[token] for token in sent.split(' ')] for sent in train_sentences[\"vi\"].values.tolist()]"
   ]
  },
  {
   "cell_type": "code",
   "execution_count": null,
   "metadata": {
    "colab": {
     "base_uri": "https://localhost:8080/"
    },
    "executionInfo": {
     "elapsed": 21,
     "status": "ok",
     "timestamp": 1634370791412,
     "user": {
      "displayName": "19020475 Phan Đình Đan Trường",
      "photoUrl": "https://lh3.googleusercontent.com/a/default-user=s64",
      "userId": "14474264519991938299"
     },
     "user_tz": -420
    },
    "id": "4-IweOKIus-H",
    "outputId": "c1b87628-cdc0-4681-82ae-934e46cce899"
   },
   "outputs": [
    {
     "data": {
      "text/plain": [
       "[1609, 13405, 12761, 1606, 16100, 45808, 20468, 17799, 23083, 32178, 1608]"
      ]
     },
     "execution_count": 95,
     "metadata": {},
     "output_type": "execute_result"
    }
   ],
   "source": [
    "input_tensor[0]"
   ]
  },
  {
   "cell_type": "code",
   "execution_count": null,
   "metadata": {
    "colab": {
     "base_uri": "https://localhost:8080/"
    },
    "executionInfo": {
     "elapsed": 15,
     "status": "ok",
     "timestamp": 1634370791412,
     "user": {
      "displayName": "19020475 Phan Đình Đan Trường",
      "photoUrl": "https://lh3.googleusercontent.com/a/default-user=s64",
      "userId": "14474264519991938299"
     },
     "user_tz": -420
    },
    "id": "J-5dqkAAvEbo",
    "outputId": "4df71531-db7e-40ef-98ba-e21a6ca22750"
   },
   "outputs": [
    {
     "data": {
      "text/plain": [
       "[1714,\n",
       " 8047,\n",
       " 18633,\n",
       " 25276,\n",
       " 22178,\n",
       " 20214,\n",
       " 23141,\n",
       " 25301,\n",
       " 24219,\n",
       " 18965,\n",
       " 18596,\n",
       " 1713]"
      ]
     },
     "execution_count": 96,
     "metadata": {},
     "output_type": "execute_result"
    }
   ],
   "source": [
    "target_tensor[0]"
   ]
  },
  {
   "cell_type": "code",
   "execution_count": null,
   "metadata": {
    "id": "gm7Nd--_unfv"
   },
   "outputs": [],
   "source": [
    "def max_length(sents):\n",
    "    return max(len(t) for t in sents)"
   ]
  },
  {
   "cell_type": "code",
   "execution_count": null,
   "metadata": {
    "id": "YktOo53sv7yW"
   },
   "outputs": [],
   "source": [
    "count = 0\n",
    "for i,t in enumerate(input_tensor):\n",
    "    if len(t) > 300:\n",
    "        count+=1"
   ]
  },
  {
   "cell_type": "code",
   "execution_count": null,
   "metadata": {
    "colab": {
     "base_uri": "https://localhost:8080/"
    },
    "executionInfo": {
     "elapsed": 14,
     "status": "ok",
     "timestamp": 1634370791415,
     "user": {
      "displayName": "19020475 Phan Đình Đan Trường",
      "photoUrl": "https://lh3.googleusercontent.com/a/default-user=s64",
      "userId": "14474264519991938299"
     },
     "user_tz": -420
    },
    "id": "caDbEpQIwppN",
    "outputId": "836b7ce9-58aa-47db-db44-968115da6926"
   },
   "outputs": [
    {
     "name": "stdout",
     "output_type": "stream",
     "text": [
      "15\n"
     ]
    }
   ],
   "source": [
    "print(count)"
   ]
  },
  {
   "cell_type": "code",
   "execution_count": null,
   "metadata": {
    "colab": {
     "base_uri": "https://localhost:8080/"
    },
    "executionInfo": {
     "elapsed": 11,
     "status": "ok",
     "timestamp": 1634370791415,
     "user": {
      "displayName": "19020475 Phan Đình Đan Trường",
      "photoUrl": "https://lh3.googleusercontent.com/a/default-user=s64",
      "userId": "14474264519991938299"
     },
     "user_tz": -420
    },
    "id": "1Rsayruzu7Jq",
    "outputId": "ad8fafbe-09fe-4e5d-dd61-72e7116495ab"
   },
   "outputs": [
    {
     "name": "stdout",
     "output_type": "stream",
     "text": [
      "max length of input and target: 630 and 852\n"
     ]
    }
   ],
   "source": [
    "max_input_len, max_output_len = max_length(input_tensor), max_length(target_tensor)\n",
    "print(f'max length of input and target: {max_input_len} and {max_output_len}')"
   ]
  },
  {
   "cell_type": "markdown",
   "metadata": {
    "id": "-isUbwq7zQRm"
   },
   "source": [
    "Ta thấy nếu để max_len = 630 hay 852 thì nó quá dài để traing, chỉ 1 lượng nhỏ data có len > 300 nên ta sẽ để default MAX_LEN = 300"
   ]
  },
  {
   "cell_type": "code",
   "execution_count": null,
   "metadata": {
    "id": "zbO2olUoxdWG"
   },
   "outputs": [],
   "source": [
    "# Max length dài quá nên chắc phải để 300 tính cho nhanh, vì hầu hết sentences có len <300\n",
    "MAX_LEN = 300"
   ]
  },
  {
   "cell_type": "code",
   "execution_count": null,
   "metadata": {
    "id": "wujLqJY_MET1"
   },
   "outputs": [],
   "source": [
    "def pad_sequences(x, max_len):\n",
    "    padded = np.zeros((max_len), dtype = np.int64)\n",
    "    if len(x) > max_len:\n",
    "        padded[:] = x[:max_len]\n",
    "    else: \n",
    "        padded[:len(x)] = x\n",
    "\n",
    "    return padded"
   ]
  },
  {
   "cell_type": "code",
   "execution_count": null,
   "metadata": {
    "id": "ImfNdAmvNkN6"
   },
   "outputs": [],
   "source": [
    "input_tensor = [pad_sequences(x, MAX_LEN) for x in input_tensor]\n",
    "target_tensor = [pad_sequences(x, MAX_LEN) for x in target_tensor]"
   ]
  },
  {
   "cell_type": "code",
   "execution_count": null,
   "metadata": {
    "colab": {
     "base_uri": "https://localhost:8080/"
    },
    "executionInfo": {
     "elapsed": 498,
     "status": "ok",
     "timestamp": 1634370797872,
     "user": {
      "displayName": "19020475 Phan Đình Đan Trường",
      "photoUrl": "https://lh3.googleusercontent.com/a/default-user=s64",
      "userId": "14474264519991938299"
     },
     "user_tz": -420
    },
    "id": "Ui_wHnZWNye-",
    "outputId": "69538fb1-a34e-42df-c5c4-c110c5f6c514"
   },
   "outputs": [
    {
     "data": {
      "text/plain": [
       "torch.Size([133318, 300])"
      ]
     },
     "execution_count": 104,
     "metadata": {},
     "output_type": "execute_result"
    }
   ],
   "source": [
    "torch.tensor(input_tensor).shape"
   ]
  },
  {
   "cell_type": "code",
   "execution_count": null,
   "metadata": {
    "colab": {
     "base_uri": "https://localhost:8080/"
    },
    "executionInfo": {
     "elapsed": 301,
     "status": "ok",
     "timestamp": 1634370802097,
     "user": {
      "displayName": "19020475 Phan Đình Đan Trường",
      "photoUrl": "https://lh3.googleusercontent.com/a/default-user=s64",
      "userId": "14474264519991938299"
     },
     "user_tz": -420
    },
    "id": "kaqHNuT_RHp8",
    "outputId": "d04d033c-364d-466f-8461-b948d8c9d299"
   },
   "outputs": [
    {
     "data": {
      "text/plain": [
       "torch.Size([133318, 300])"
      ]
     },
     "execution_count": 105,
     "metadata": {},
     "output_type": "execute_result"
    }
   ],
   "source": [
    "torch.tensor(target_tensor).shape"
   ]
  },
  {
   "cell_type": "code",
   "execution_count": null,
   "metadata": {
    "colab": {
     "base_uri": "https://localhost:8080/"
    },
    "executionInfo": {
     "elapsed": 11,
     "status": "ok",
     "timestamp": 1634370802098,
     "user": {
      "displayName": "19020475 Phan Đình Đan Trường",
      "photoUrl": "https://lh3.googleusercontent.com/a/default-user=s64",
      "userId": "14474264519991938299"
     },
     "user_tz": -420
    },
    "id": "Fi59rwtXxvqh",
    "outputId": "44ca0c77-6496-400b-8a92-cb505626d99b"
   },
   "outputs": [
    {
     "name": "stdout",
     "output_type": "stream",
     "text": [
      "106654 26664 106654 26664\n"
     ]
    }
   ],
   "source": [
    "input_tensor_train, input_tensor_val, target_tensor_train, target_tensor_val = train_test_split(input_tensor, target_tensor,test_size = 0.2)\n",
    "\n",
    "print(len(input_tensor_train), len(input_tensor_val), len(target_tensor_train), len(target_tensor_val))"
   ]
  },
  {
   "cell_type": "markdown",
   "metadata": {
    "id": "C-JclQPnHS7f"
   },
   "source": [
    "# Load data into DataLoader for Batching\n",
    "\n"
   ]
  },
  {
   "cell_type": "code",
   "execution_count": null,
   "metadata": {
    "id": "ck-EPQuZwxWa"
   },
   "outputs": [],
   "source": [
    "from torch.utils.data import Dataset, DataLoader"
   ]
  },
  {
   "cell_type": "code",
   "execution_count": null,
   "metadata": {
    "id": "O3dJOrrPHkGT"
   },
   "outputs": [],
   "source": [
    "# convert data to tensors, pass to DadaLoader \n",
    "\n",
    "class MyData(Dataset):\n",
    "    def __init__(self, X,y):\n",
    "        self.data = X \n",
    "        self.target = y\n",
    "        \n",
    "        #length of sentence = len(tensor) - len(pad)\n",
    "        self.length = [np.sum(1 - np.equal(x, 0)) for x in X]\n",
    "\n",
    "    def __getitem__(self,index):\n",
    "        x = self.data[index]\n",
    "        y = self.target[index]\n",
    "        x_len = self.length[index]\n",
    "        return x,y,x_len\n",
    "\n",
    "    def __len__(self):\n",
    "        return len(self.data)"
   ]
  },
  {
   "cell_type": "code",
   "execution_count": null,
   "metadata": {
    "id": "YXIpdZl9Lfe6"
   },
   "outputs": [],
   "source": [
    "train_dataset = MyData(input_tensor_train, target_tensor_train)\n"
   ]
  },
  {
   "cell_type": "code",
   "execution_count": null,
   "metadata": {
    "id": "JsdaKUArLjEK"
   },
   "outputs": [],
   "source": [
    "train_dataset.data[0]"
   ]
  },
  {
   "cell_type": "markdown",
   "metadata": {
    "id": "J7h_p7kGJj3u"
   },
   "source": [
    "# Parameters \n"
   ]
  },
  {
   "cell_type": "code",
   "execution_count": null,
   "metadata": {
    "id": "B05qwFBuJi0N"
   },
   "outputs": [],
   "source": [
    "BUFFER_SIZE = len(input_tensor_train)\n",
    "BATCH_SIZE = 32 \n",
    "N_BATCH = BUFFER_SIZE//BATCH_SIZE\n",
    "embedding_dim = 256\n",
    "units = 1024 \n",
    "vocab_input_size = len(input_lang.word2idx)\n",
    "vocab_target_size = len(target_lang.word2idx)\n",
    "\n",
    "train_dataset = MyData(input_tensor_train, target_tensor_train)\n",
    "val_dataset = MyData(input_tensor_val, target_tensor_val)\n",
    "\n",
    "train_loader = DataLoader(train_dataset, batch_size=BATCH_SIZE, shuffle=True)\n",
    "val_loader = DataLoader(train_dataset, batch_size=BATCH_SIZE, shuffle=True)\n"
   ]
  },
  {
   "cell_type": "markdown",
   "metadata": {
    "id": "A7VNuMZiKmjd"
   },
   "source": [
    "# Encoder "
   ]
  },
  {
   "cell_type": "markdown",
   "metadata": {
    "id": "0pu7Y8qq8KtX"
   },
   "source": [
    "`pack` sequences trong Pytorch là gì?\n",
    "\n",
    "* khi training RNN(LSTM or GRU) thì độ giàu của các câu trong batch khác nhau. \n",
    "Ví dụ: nếu sequences với batch = 8 có size lần lượt là: `[4,6,8,5,4,3,7,8]` thì bạn sẽ phải padding tất các các câu để có độ dài = max_sent = 8. Khi đó cần 64 phép tính (8x8) nhưng trên thực tế thì chỉ cần 45 là đủ. Tuy nhiên nếu muốn sử dụng fancy RNN (e.g. biLSTM) thì nó sẽ trở nên tính toán hard hơn khi padding và sẽ thực hiện nhiều phép tính hơn mức cần thiết. \n",
    "\n",
    "* Vì thế Pytorch cho phép pack sequence, trong packed sequence 2 có tuple. 1 tuple chứ các elements của sequence. tuple còn lại chứa size of each sequence trong batch.\n",
    "\n",
    "Ref: https://stackoverflow.com/questions/51030782/why-do-we-pack-the-sequences-in-pytorch"
   ]
  },
  {
   "cell_type": "code",
   "execution_count": null,
   "metadata": {
    "id": "P5PVelXSKkLz"
   },
   "outputs": [],
   "source": [
    "class Encoder(nn.Module):\n",
    "    def __init__(self, vocab_size, embedding_dim, enc_units, batch_size):\n",
    "        super(Encoder, self).__init__()\n",
    "        self.batch_size = batch_size\n",
    "        self.enc_units = enc_units \n",
    "        self.vocab_size = vocab_size \n",
    "        self.embedding_dim = embedding_dim \n",
    "        self.embedding = nn.Embedding(self.vocab_size, self.embedding_dim)\n",
    "        self.gru = nn.GRU(self.embedding_dim, self.enc_units)\n",
    "\n",
    "    def forward(self,x, lens, device):\n",
    "\n",
    "        #x: max_length x batch \n",
    "        x = self.embedding(x)\n",
    "        # max_length x batch x embedding_dim\n",
    "        x = pack_padded_sequence(x, lens) #unpad \n",
    "\n",
    "        self.hidden = self.initialize_hidden_state(device)\n",
    "        # 1 x batch x embedding_dim\n",
    "\n",
    "        output, self.hidden = self.gru(x, self.hidden)\n",
    "        # output.shape: max_length x batch x hidden_dim\n",
    "        #self.hidden: 1 x batch x\n",
    "        output, _ = pad_packed_sequence(output)\n",
    "        # print(output.shape)\n",
    "\n",
    "        return output, self.hidden\n",
    "\n",
    "    def initialize_hidden_state(self, device):\n",
    "        return torch.zeros((1,self.batch_size, self.enc_units)).to(device)"
   ]
  },
  {
   "cell_type": "code",
   "execution_count": null,
   "metadata": {
    "id": "glA0j3RJ30qX"
   },
   "outputs": [],
   "source": [
    "### sort batch function to be able to use with pad_packed_sequence\n",
    "def sort_batch(X, y, lengths):\n",
    "    lengths, indx = lengths.sort(dim=0, descending=True)\n",
    "    X = X[indx]\n",
    "    y = y[indx]\n",
    "    return X.transpose(0,1), y, lengths # transpose (batch x seq) to (seq x batch)"
   ]
  },
  {
   "cell_type": "markdown",
   "metadata": {
    "id": "Io2aJeQT4tMZ"
   },
   "source": [
    "## Test Encoder"
   ]
  },
  {
   "cell_type": "code",
   "execution_count": null,
   "metadata": {
    "colab": {
     "base_uri": "https://localhost:8080/"
    },
    "executionInfo": {
     "elapsed": 510,
     "status": "ok",
     "timestamp": 1634370806534,
     "user": {
      "displayName": "19020475 Phan Đình Đan Trường",
      "photoUrl": "https://lh3.googleusercontent.com/a/default-user=s64",
      "userId": "14474264519991938299"
     },
     "user_tz": -420
    },
    "id": "ymiONVgz4GzS",
    "outputId": "980cb16b-714e-4301-b349-a1a6172c917b"
   },
   "outputs": [
    {
     "name": "stdout",
     "output_type": "stream",
     "text": [
      "torch.Size([56, 32, 1024])\n"
     ]
    }
   ],
   "source": [
    "device = torch.device(\"cuda:0\" if torch.cuda.is_available() else \"cpu\")\n",
    "\n",
    "test_encoder = Encoder(vocab_input_size, embedding_dim, units, BATCH_SIZE).to(device)\n",
    "\n",
    "it = iter(train_loader)\n",
    "x,y,x_len = next(it)\n",
    "x,y,x_len = sort_batch(x,y,x_len)\n",
    "\n",
    "out_enc, hidden_enc = test_encoder(x.to(device), x_len, device)"
   ]
  },
  {
   "cell_type": "code",
   "execution_count": null,
   "metadata": {
    "colab": {
     "base_uri": "https://localhost:8080/"
    },
    "executionInfo": {
     "elapsed": 36,
     "status": "ok",
     "timestamp": 1634370806534,
     "user": {
      "displayName": "19020475 Phan Đình Đan Trường",
      "photoUrl": "https://lh3.googleusercontent.com/a/default-user=s64",
      "userId": "14474264519991938299"
     },
     "user_tz": -420
    },
    "id": "60bE0hBd6tEO",
    "outputId": "19c43616-73ba-4868-e5a7-a85040e10c44"
   },
   "outputs": [
    {
     "data": {
      "text/plain": [
       "torch.Size([56, 32, 1024])"
      ]
     },
     "execution_count": 115,
     "metadata": {},
     "output_type": "execute_result"
    }
   ],
   "source": [
    "out_enc.shape\n"
   ]
  },
  {
   "cell_type": "code",
   "execution_count": null,
   "metadata": {
    "colab": {
     "base_uri": "https://localhost:8080/"
    },
    "executionInfo": {
     "elapsed": 21,
     "status": "ok",
     "timestamp": 1634370806535,
     "user": {
      "displayName": "19020475 Phan Đình Đan Trường",
      "photoUrl": "https://lh3.googleusercontent.com/a/default-user=s64",
      "userId": "14474264519991938299"
     },
     "user_tz": -420
    },
    "id": "qN2C4nrF65j_",
    "outputId": "7def508f-b592-4718-bede-47893c364a31"
   },
   "outputs": [
    {
     "data": {
      "text/plain": [
       "torch.Size([1, 32, 1024])"
      ]
     },
     "execution_count": 116,
     "metadata": {},
     "output_type": "execute_result"
    }
   ],
   "source": [
    "hidden_enc.shape"
   ]
  },
  {
   "cell_type": "code",
   "execution_count": null,
   "metadata": {
    "colab": {
     "base_uri": "https://localhost:8080/"
    },
    "executionInfo": {
     "elapsed": 16,
     "status": "ok",
     "timestamp": 1634370806535,
     "user": {
      "displayName": "19020475 Phan Đình Đan Trường",
      "photoUrl": "https://lh3.googleusercontent.com/a/default-user=s64",
      "userId": "14474264519991938299"
     },
     "user_tz": -420
    },
    "id": "_6U7pOa_7GWg",
    "outputId": "d2d2428b-a418-49b7-da31-a795a45f2e11"
   },
   "outputs": [
    {
     "data": {
      "text/plain": [
       "tensor([56, 42, 37, 37, 36, 35, 35, 33, 33, 31, 30, 27, 25, 25, 25, 24, 22, 22,\n",
       "        19, 19, 15, 12, 12, 11, 11, 11, 11, 10,  9,  8,  5,  5])"
      ]
     },
     "execution_count": 117,
     "metadata": {},
     "output_type": "execute_result"
    }
   ],
   "source": [
    "x_len"
   ]
  },
  {
   "cell_type": "markdown",
   "metadata": {
    "id": "5MjA9xyl-3HR"
   },
   "source": [
    "# Decoder\n",
    "\n",
    "<img src = \"https://www.tensorflow.org/images/seq2seq/attention_mechanism.jpg\">\n",
    "\n",
    "<img src = \"https://www.tensorflow.org/images/seq2seq/attention_equation_0.jpg\">\n",
    "\n",
    "Step:\n",
    "* score = FC(tanh(FC(EO) + FC(H)))\n",
    "* attention_weights = softmax(score, axis = 1) #batch x max_length x 1\n",
    "* context_vector = sum(attention_weight x output_enc, axis = 1)\n",
    "* embedding_output = input decoder pass qua embedding layer\n",
    "* merged vector = concat(embedding_output, context_vector) \n",
    "\n",
    "\n"
   ]
  },
  {
   "cell_type": "code",
   "execution_count": null,
   "metadata": {
    "id": "dCS1tcT3-wiB"
   },
   "outputs": [],
   "source": [
    "class Decoder(nn.Module):\n",
    "    def __init__(self, vocab_size, embedding_dim, dec_units, enc_units, batch_size):\n",
    "        super(Decoder, self).__init__()\n",
    "        self.batch_size = batch_size\n",
    "        self.dec_units = dec_units\n",
    "        self.enc_units = enc_units\n",
    "        self.vocab_size = vocab_size\n",
    "        self.embedding_dim = embedding_dim\n",
    "        self.embedding = nn.Embedding(self.vocab_size, self.embedding_dim)\n",
    "        self.gru = nn.GRU(self.embedding_dim + self.enc_units, self.dec_units, batch_first= True)\n",
    "        self.fc = nn.Linear(self.enc_units, self.vocab_size)\n",
    "\n",
    "        #use for attention:\n",
    "        self.W1 = nn.Linear(self.enc_units, self.dec_units)\n",
    "        self.W2 = nn.Linear(self.enc_units, self.dec_units)\n",
    "        self.V = nn.Linear(self.enc_units, 1)\n",
    "\n",
    "    def forward(self, x, hidden, enc_output):\n",
    "\n",
    "        #enc_out: max_len x batch x hidden_dim \n",
    "        enc_output = enc_output.permute(1,0,2)\n",
    "        #enc_out: batch x max_len x hidden_dim \n",
    "\n",
    "        #hidden : batch x hidden_dim --> permute: batch x 1 x hidden_dim \n",
    "        hidden = hidden.permute(1,0,2)\n",
    "\n",
    "        #use bahanau equal we hat:\n",
    "        score = self.V(torch.tanh(self.W1(enc_output) + self.W2(hidden)))\n",
    "        # batch x max_len x 1\n",
    "\n",
    "        attention_weights = torch.softmax(score, dim = 1) \n",
    "        #batch x max_len x 1 \n",
    "\n",
    "        #context vector:\n",
    "        context_vector = torch.sum(attention_weights * enc_output, dim = 1)\n",
    "        # (batch x max_len x 1) * (batch x max_len x hidden_dim) = batch x max_len x hidden_dim \n",
    "        # sum--> batch x hidden_dim\n",
    "        # print(f'shape of context vector is {context_vector.shape}')\n",
    "        x = self.embedding(x)\n",
    "        #batch x 1 x embedding_dim \n",
    "        x = torch.cat((context_vector.unsqueeze(1), x), -1)\n",
    "        # x = batch x 1 x (enc_dim + dec_dim)\n",
    "\n",
    "        #pass qua GRU:\n",
    "        output, state = self.gru(x)\n",
    "        #output: batch x 1 x hidden_dim \n",
    "        #state: batch x 1 x hidden_dim \n",
    "\n",
    "        output = output.view(-1, output.size(2))\n",
    "        #batch x hidden_dim\n",
    "\n",
    "        x = self.fc(output)\n",
    "\n",
    "        return x, state, attention_weights"
   ]
  },
  {
   "cell_type": "markdown",
   "metadata": {
    "id": "cmGQicQsOXcM"
   },
   "source": [
    "## Test Decoder"
   ]
  },
  {
   "cell_type": "code",
   "execution_count": null,
   "metadata": {
    "id": "ZpLHVODkHJuc"
   },
   "outputs": [],
   "source": [
    "test_decoder = Decoder(vocab_target_size, embedding_dim, units, units, BATCH_SIZE).to(device)"
   ]
  },
  {
   "cell_type": "code",
   "execution_count": null,
   "metadata": {
    "id": "EgnFDjYMLj1W"
   },
   "outputs": [],
   "source": [
    "hidden_dec = hidden_enc \n"
   ]
  },
  {
   "cell_type": "code",
   "execution_count": null,
   "metadata": {
    "id": "KOTUNJ_gLuG6"
   },
   "outputs": [],
   "source": [
    "input_dec = torch.tensor([[target_lang.word2idx['<start>']]] * BATCH_SIZE)"
   ]
  },
  {
   "cell_type": "code",
   "execution_count": null,
   "metadata": {
    "colab": {
     "base_uri": "https://localhost:8080/"
    },
    "executionInfo": {
     "elapsed": 9,
     "status": "ok",
     "timestamp": 1634373127139,
     "user": {
      "displayName": "19020475 Phan Đình Đan Trường",
      "photoUrl": "https://lh3.googleusercontent.com/a/default-user=s64",
      "userId": "14474264519991938299"
     },
     "user_tz": -420
    },
    "id": "l6gcP2PFMGpc",
    "outputId": "e34e2bb7-fe61-4b6b-fd51-e0e4a3800e0c"
   },
   "outputs": [
    {
     "data": {
      "text/plain": [
       "torch.Size([32, 1])"
      ]
     },
     "execution_count": 165,
     "metadata": {},
     "output_type": "execute_result"
    }
   ],
   "source": [
    "input_dec.shape"
   ]
  },
  {
   "cell_type": "code",
   "execution_count": null,
   "metadata": {
    "id": "vNQR7O2kMHmT"
   },
   "outputs": [],
   "source": [
    "for t in range(1, y.size(1)):\n",
    "    x,state, attn_weights = test_decoder(input_dec.to(device), \n",
    "                                         hidden_dec.to(device), \n",
    "                                         out_enc.to(device))"
   ]
  },
  {
   "cell_type": "code",
   "execution_count": null,
   "metadata": {
    "colab": {
     "base_uri": "https://localhost:8080/"
    },
    "executionInfo": {
     "elapsed": 17,
     "status": "ok",
     "timestamp": 1634373129348,
     "user": {
      "displayName": "19020475 Phan Đình Đan Trường",
      "photoUrl": "https://lh3.googleusercontent.com/a/default-user=s64",
      "userId": "14474264519991938299"
     },
     "user_tz": -420
    },
    "id": "6CqGZzDkMxTc",
    "outputId": "ec169619-5dd4-4220-8e11-14c8e7c3508f"
   },
   "outputs": [
    {
     "data": {
      "text/plain": [
       "torch.Size([32, 1, 1024])"
      ]
     },
     "execution_count": 167,
     "metadata": {},
     "output_type": "execute_result"
    }
   ],
   "source": [
    "hidden_dec.permute(1,0,2).shape"
   ]
  },
  {
   "cell_type": "code",
   "execution_count": null,
   "metadata": {
    "colab": {
     "base_uri": "https://localhost:8080/"
    },
    "executionInfo": {
     "elapsed": 322,
     "status": "ok",
     "timestamp": 1634373140091,
     "user": {
      "displayName": "19020475 Phan Đình Đan Trường",
      "photoUrl": "https://lh3.googleusercontent.com/a/default-user=s64",
      "userId": "14474264519991938299"
     },
     "user_tz": -420
    },
    "id": "ldUNViiNM5Z9",
    "outputId": "9bd7e151-188c-4348-e433-ffa374d500c1"
   },
   "outputs": [
    {
     "data": {
      "text/plain": [
       "torch.Size([32, 25619])"
      ]
     },
     "execution_count": 168,
     "metadata": {},
     "output_type": "execute_result"
    }
   ],
   "source": [
    "x.shape"
   ]
  },
  {
   "cell_type": "code",
   "execution_count": null,
   "metadata": {
    "colab": {
     "base_uri": "https://localhost:8080/"
    },
    "executionInfo": {
     "elapsed": 293,
     "status": "ok",
     "timestamp": 1634373205524,
     "user": {
      "displayName": "19020475 Phan Đình Đan Trường",
      "photoUrl": "https://lh3.googleusercontent.com/a/default-user=s64",
      "userId": "14474264519991938299"
     },
     "user_tz": -420
    },
    "id": "UjznbxoCOvhZ",
    "outputId": "66d53070-b880-460e-e818-bf782aed3e17"
   },
   "outputs": [
    {
     "data": {
      "text/plain": [
       "torch.Size([1, 32, 1024])"
      ]
     },
     "execution_count": 169,
     "metadata": {},
     "output_type": "execute_result"
    }
   ],
   "source": [
    "state.shape"
   ]
  },
  {
   "cell_type": "code",
   "execution_count": null,
   "metadata": {
    "colab": {
     "base_uri": "https://localhost:8080/"
    },
    "executionInfo": {
     "elapsed": 513,
     "status": "ok",
     "timestamp": 1634373214529,
     "user": {
      "displayName": "19020475 Phan Đình Đan Trường",
      "photoUrl": "https://lh3.googleusercontent.com/a/default-user=s64",
      "userId": "14474264519991938299"
     },
     "user_tz": -420
    },
    "id": "n9HB2YW8O_le",
    "outputId": "2e9e386d-506e-46f8-fc4e-60017ffbdb02"
   },
   "outputs": [
    {
     "data": {
      "text/plain": [
       "torch.Size([32, 56, 1])"
      ]
     },
     "execution_count": 170,
     "metadata": {},
     "output_type": "execute_result"
    }
   ],
   "source": [
    "attn_weights.shape"
   ]
  },
  {
   "cell_type": "markdown",
   "metadata": {
    "id": "YTKdmnuxPUmo"
   },
   "source": [
    "# Define loss, hyperparameters..."
   ]
  },
  {
   "cell_type": "code",
   "execution_count": null,
   "metadata": {
    "id": "HPuQDFKHPBta"
   },
   "outputs": [],
   "source": [
    "criterion = nn.CrossEntropyLoss()\n",
    "\n",
    "def loss_function(real, pred):\n",
    "    \"\"\"chỉ cần xem xét những giá trị khác o, những giá trị = 0 có thể mask đi\"\"\"\n",
    "    # mask = real.ge(1).type(torch.cuda.FloatTensor)\n",
    "    mask = 1 - np.equal(real, 0)\n",
    "    loss = criterion(pred, real) * mask\n",
    "    return torch.mean(loss)"
   ]
  },
  {
   "cell_type": "code",
   "execution_count": null,
   "metadata": {
    "id": "wTZpgIw0PzU_"
   },
   "outputs": [],
   "source": [
    "mask = 1 - np.equal(y, 0)"
   ]
  },
  {
   "cell_type": "code",
   "execution_count": null,
   "metadata": {
    "id": "zeEAdyU6P0Bo"
   },
   "outputs": [],
   "source": [
    "mask[30]"
   ]
  },
  {
   "cell_type": "code",
   "execution_count": null,
   "metadata": {
    "id": "B6lSyZ13P9R3"
   },
   "outputs": [],
   "source": [
    "y[30]"
   ]
  },
  {
   "cell_type": "code",
   "execution_count": null,
   "metadata": {
    "id": "uebXpNBmQbqF"
   },
   "outputs": [],
   "source": [
    "encoder = Encoder(vocab_input_size, embedding_dim, units, BATCH_SIZE)\n",
    "decoder = Decoder(vocab_target_size, embedding_dim, units, units, BATCH_SIZE)\n",
    "\n",
    "encoder.to(device)\n",
    "decoder.to(device)\n",
    "\n",
    "optimizer = optim.Adam(list(encoder.parameters())+ list(decoder.parameters()), lr = 0.001)"
   ]
  },
  {
   "cell_type": "markdown",
   "metadata": {
    "id": "mEWLX7U9Refi"
   },
   "source": [
    "# Training"
   ]
  },
  {
   "cell_type": "code",
   "execution_count": null,
   "metadata": {
    "id": "NFKh83svRkeL"
   },
   "outputs": [],
   "source": [
    "from tqdm import tqdm"
   ]
  },
  {
   "cell_type": "code",
   "execution_count": null,
   "metadata": {
    "id": "_Vse0NRYRa12"
   },
   "outputs": [],
   "source": [
    "EPOCHS = 10\n",
    "\n",
    "for epoch in tqdm(range(EPOCHS)):\n",
    "    start = time.time()\n",
    "\n",
    "    encoder.train()\n",
    "    decoder.train()\n",
    "\n",
    "    total_loss = 0\n",
    "    \n",
    "    for (batch_idx, (input, target, input_len)) in enumerate(train_loader):\n",
    "        loss = 0\n",
    "        x,y,x_len = sort_batch(input,target,input_len)\n",
    "\n",
    "        enc_output, enc_hidden = encoder(x.to(device), x_len, device)\n",
    "        dec_hidden = enc_hidden\n",
    "\n",
    "        dec_input = torch.tensor([[target_lang.word2idx['<start>']]] * BATCH_SIZE)\n",
    "\n",
    "        for t in range(1, y.size(1)):\n",
    "            pred, dec_hidden, _ = decoder(dec_input.to(device), \n",
    "                                          dec_hidden.to(device),\n",
    "                                          enc_output.to(device))\n",
    "            \n",
    "            loss+= loss_function(y[:,t].to('cpu'), pred.to('cpu'))\n",
    "            dec_input = y[:,t].unsqueeze(1)\n",
    "\n",
    "        batch_loss = (loss/int(y.size(1)))\n",
    "        total_loss += batch_loss\n",
    "\n",
    "        optimizer.zero_grad()\n",
    "\n",
    "        loss.backward()\n",
    "\n",
    "        optimizer.step()\n",
    "\n",
    "        if batch_idx%100 == 0:\n",
    "            print('Epoch {} Batch {} Loss {:.4f}'.format(epoch + 1, batch_idx, batch_loss.detach().item()))\n",
    "    \n",
    "    #TODO: save checkpoint for model \n",
    "    print('EPOCH {} LOSS {:.4f}'.format(epoch+1, total_loss/N_BATCH))\n",
    "    print('Tine taken for 1 epoch {} sec\\n'.format(time.time() - start))"
   ]
  },
  {
   "cell_type": "code",
   "execution_count": null,
   "metadata": {
    "id": "644uOgPoTUYv"
   },
   "outputs": [],
   "source": []
  }
 ],
 "metadata": {
  "accelerator": "GPU",
  "colab": {
   "authorship_tag": "ABX9TyO0ox65iHGECkeInmLQASGb",
   "collapsed_sections": [],
   "mount_file_id": "1r_S6zTJAvWN5J43qnyLQx8H79zkjyTgM",
   "name": "machine translation.ipynb",
   "provenance": []
  },
  "kernelspec": {
   "display_name": "Python 3",
   "language": "python",
   "name": "python3"
  },
  "language_info": {
   "codemirror_mode": {
    "name": "ipython",
    "version": 3
   },
   "file_extension": ".py",
   "mimetype": "text/x-python",
   "name": "python",
   "nbconvert_exporter": "python",
   "pygments_lexer": "ipython3",
   "version": "3.7.11"
  }
 },
 "nbformat": 4,
 "nbformat_minor": 1
}
